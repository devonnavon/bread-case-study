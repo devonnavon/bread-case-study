{
 "cells": [
  {
   "cell_type": "code",
   "execution_count": 1,
   "metadata": {},
   "outputs": [],
   "source": [
    "import pandas as pd \n",
    "import numpy as np\n",
    "from scipy import stats\n",
    "\n",
    "import helpers"
   ]
  },
  {
   "cell_type": "markdown",
   "metadata": {},
   "source": [
    "## EDA and Data Prep"
   ]
  },
  {
   "cell_type": "code",
   "execution_count": 2,
   "metadata": {},
   "outputs": [
    {
     "name": "stdout",
     "output_type": "stream",
     "text": [
      "prequals length: \t\t190830\n",
      "intellicron_prequals length: \t8495\n"
     ]
    }
   ],
   "source": [
    "prequals = pd.read_csv('prequals.csv', index_col=0)\n",
    "intellicron_prequals = pd.read_csv('intellicron_prequals.csv', index_col=0)\n",
    "print(f'prequals length: \\t\\t{len(prequals)}\\nintellicron_prequals length: \\t{len(intellicron_prequals)}')"
   ]
  },
  {
   "cell_type": "code",
   "execution_count": 3,
   "metadata": {},
   "outputs": [
    {
     "name": "stdout",
     "output_type": "stream",
     "text": [
      "prequals:\n"
     ]
    },
    {
     "data": {
      "text/html": [
       "<div>\n",
       "<style scoped>\n",
       "    .dataframe tbody tr th:only-of-type {\n",
       "        vertical-align: middle;\n",
       "    }\n",
       "\n",
       "    .dataframe tbody tr th {\n",
       "        vertical-align: top;\n",
       "    }\n",
       "\n",
       "    .dataframe thead th {\n",
       "        text-align: right;\n",
       "    }\n",
       "</style>\n",
       "<table border=\"1\" class=\"dataframe\">\n",
       "  <thead>\n",
       "    <tr style=\"text-align: right;\">\n",
       "      <th></th>\n",
       "      <th>prequal_id</th>\n",
       "      <th>checkout_id</th>\n",
       "      <th>prequal_date</th>\n",
       "      <th>completed_prequal</th>\n",
       "      <th>approved</th>\n",
       "    </tr>\n",
       "  </thead>\n",
       "  <tbody>\n",
       "    <tr>\n",
       "      <td>1</td>\n",
       "      <td>0683430d-2d5d-4206-84b8-c7226540e9c9</td>\n",
       "      <td>NaN</td>\n",
       "      <td>2019-01-31</td>\n",
       "      <td>0</td>\n",
       "      <td>0</td>\n",
       "    </tr>\n",
       "    <tr>\n",
       "      <td>2</td>\n",
       "      <td>9af59e9b-bedb-4718-bfac-27c58529bc09</td>\n",
       "      <td>NaN</td>\n",
       "      <td>2019-02-09</td>\n",
       "      <td>1</td>\n",
       "      <td>0</td>\n",
       "    </tr>\n",
       "    <tr>\n",
       "      <td>3</td>\n",
       "      <td>46b5c524-a1e7-4e52-9d05-d9cdffde6634</td>\n",
       "      <td>NaN</td>\n",
       "      <td>2019-06-21</td>\n",
       "      <td>1</td>\n",
       "      <td>0</td>\n",
       "    </tr>\n",
       "  </tbody>\n",
       "</table>\n",
       "</div>"
      ],
      "text/plain": [
       "                             prequal_id checkout_id prequal_date  \\\n",
       "1  0683430d-2d5d-4206-84b8-c7226540e9c9         NaN   2019-01-31   \n",
       "2  9af59e9b-bedb-4718-bfac-27c58529bc09         NaN   2019-02-09   \n",
       "3  46b5c524-a1e7-4e52-9d05-d9cdffde6634         NaN   2019-06-21   \n",
       "\n",
       "   completed_prequal  approved  \n",
       "1                  0         0  \n",
       "2                  1         0  \n",
       "3                  1         0  "
      ]
     },
     "metadata": {},
     "output_type": "display_data"
    },
    {
     "name": "stdout",
     "output_type": "stream",
     "text": [
      "intellicron_prequals:\n"
     ]
    },
    {
     "data": {
      "text/html": [
       "<div>\n",
       "<style scoped>\n",
       "    .dataframe tbody tr th:only-of-type {\n",
       "        vertical-align: middle;\n",
       "    }\n",
       "\n",
       "    .dataframe tbody tr th {\n",
       "        vertical-align: top;\n",
       "    }\n",
       "\n",
       "    .dataframe thead th {\n",
       "        text-align: right;\n",
       "    }\n",
       "</style>\n",
       "<table border=\"1\" class=\"dataframe\">\n",
       "  <thead>\n",
       "    <tr style=\"text-align: right;\">\n",
       "      <th></th>\n",
       "      <th>prequal_id</th>\n",
       "      <th>assignment_date</th>\n",
       "    </tr>\n",
       "  </thead>\n",
       "  <tbody>\n",
       "    <tr>\n",
       "      <td>1</td>\n",
       "      <td>0ed3973c-830c-4dc8-9789-78cad38fefef</td>\n",
       "      <td>2019-06-17</td>\n",
       "    </tr>\n",
       "    <tr>\n",
       "      <td>2</td>\n",
       "      <td>cdadc46a-0937-43a6-9a57-16502c04b772</td>\n",
       "      <td>2019-06-18</td>\n",
       "    </tr>\n",
       "    <tr>\n",
       "      <td>3</td>\n",
       "      <td>ad29bbb9-6698-45c8-97bb-f389e99e396e</td>\n",
       "      <td>2019-06-16</td>\n",
       "    </tr>\n",
       "  </tbody>\n",
       "</table>\n",
       "</div>"
      ],
      "text/plain": [
       "                             prequal_id assignment_date\n",
       "1  0ed3973c-830c-4dc8-9789-78cad38fefef      2019-06-17\n",
       "2  cdadc46a-0937-43a6-9a57-16502c04b772      2019-06-18\n",
       "3  ad29bbb9-6698-45c8-97bb-f389e99e396e      2019-06-16"
      ]
     },
     "metadata": {},
     "output_type": "display_data"
    }
   ],
   "source": [
    "print('prequals:')\n",
    "display(prequals.head(3))\n",
    "print('intellicron_prequals:')\n",
    "display(intellicron_prequals.head(3))"
   ]
  },
  {
   "cell_type": "code",
   "execution_count": 4,
   "metadata": {},
   "outputs": [
    {
     "name": "stdout",
     "output_type": "stream",
     "text": [
      "prequals: \t\t 2019-01-01 to 2019-06-30\n",
      "intellicron_prequals: \t 2019-06-16 to 2019-06-30\n"
     ]
    }
   ],
   "source": [
    "print('prequals: \\t\\t', helpers.get_date_range(prequals, 'prequal_date'))\n",
    "print('intellicron_prequals: \\t', helpers.get_date_range(intellicron_prequals, 'assignment_date'))"
   ]
  },
  {
   "cell_type": "markdown",
   "metadata": {},
   "source": [
    "- Above we notice that the begining date of the prequals data starts 6 and a hal months earlier than the start of the test\n",
    "- This statement is assuming that 'prequal_date' and 'assignment_date' are the same"
   ]
  },
  {
   "cell_type": "code",
   "execution_count": 5,
   "metadata": {},
   "outputs": [
    {
     "name": "stdout",
     "output_type": "stream",
     "text": [
      "Differences between \"prequal_date\" and \"assignment_date\": 0\n"
     ]
    }
   ],
   "source": [
    "variant_results = pd.merge(prequals, intellicron_prequals, on='prequal_id')\n",
    "\n",
    "date_diffs = len(variant_results[variant_results.assignment_date!=variant_results.prequal_date])\n",
    "print(f'Differences between \"prequal_date\" and \"assignment_date\": {date_diffs}')\n",
    "\n",
    "variant_results = variant_results.drop('assignment_date', axis=1)"
   ]
  },
  {
   "cell_type": "markdown",
   "metadata": {},
   "source": [
    "- Based on the above we can assume that 'prequal_date' and 'assignment_date' are the same\n",
    "- To avoid using data that was not in the test range, we'll filter the non intellicron results to be of the same date range"
   ]
  },
  {
   "cell_type": "code",
   "execution_count": 6,
   "metadata": {},
   "outputs": [
    {
     "name": "stdout",
     "output_type": "stream",
     "text": [
      "control_results: \t 2019-06-16 to 2019-06-30\n",
      "variant_results: \t 2019-06-16 to 2019-06-30\n"
     ]
    }
   ],
   "source": [
    "#filter out prequal ids\n",
    "control_results_total = prequals[~prequals.prequal_id.isin(variant_results.prequal_id)]\n",
    "#filter out earlier dates\n",
    "control_results = control_results_total[control_results_total.prequal_date>=variant_results.prequal_date.min()]\n",
    "print('control_results: \\t', helpers.get_date_range(control_results, 'prequal_date'))\n",
    "print('variant_results: \\t', helpers.get_date_range(variant_results, 'prequal_date'))"
   ]
  },
  {
   "cell_type": "code",
   "execution_count": 7,
   "metadata": {},
   "outputs": [
    {
     "name": "stdout",
     "output_type": "stream",
     "text": [
      "control_results length: \t9690\n",
      "variant_results length: \t8495\n"
     ]
    }
   ],
   "source": [
    "print(f'control_results length: \\t{len(control_results)}\\nvariant_results length: \\t{len(variant_results)}')"
   ]
  },
  {
   "cell_type": "markdown",
   "metadata": {},
   "source": [
    "- After date filtering we see a pool that makes more sense being that our users were split 50/50\n",
    "- Now that we have split the data into two result sets we can combine into one datasetremove unecessary variables and start analysis"
   ]
  },
  {
   "cell_type": "code",
   "execution_count": 8,
   "metadata": {},
   "outputs": [
    {
     "name": "stderr",
     "output_type": "stream",
     "text": [
      "/Users/devonnavon/anaconda3/lib/python3.7/site-packages/pandas/core/indexing.py:376: SettingWithCopyWarning: \n",
      "A value is trying to be set on a copy of a slice from a DataFrame.\n",
      "Try using .loc[row_indexer,col_indexer] = value instead\n",
      "\n",
      "See the caveats in the documentation: http://pandas.pydata.org/pandas-docs/stable/user_guide/indexing.html#returning-a-view-versus-a-copy\n",
      "  self.obj[key] = _infer_fill_value(value)\n",
      "/Users/devonnavon/anaconda3/lib/python3.7/site-packages/pandas/core/indexing.py:494: SettingWithCopyWarning: \n",
      "A value is trying to be set on a copy of a slice from a DataFrame.\n",
      "Try using .loc[row_indexer,col_indexer] = value instead\n",
      "\n",
      "See the caveats in the documentation: http://pandas.pydata.org/pandas-docs/stable/user_guide/indexing.html#returning-a-view-versus-a-copy\n",
      "  self.obj[item] = s\n"
     ]
    }
   ],
   "source": [
    "#add labels then combine results and drop uneeded variables\n",
    "control_results.loc[:,'group'] = 'A'\n",
    "variant_results.loc[:,'group'] = 'B'\n",
    "\n",
    "ab = pd.concat([control_results, variant_results]).drop(['prequal_date', 'completed_prequal', 'approved', 'prequal_id'], axis=1)\n",
    "\n",
    "#setup checkout column\n",
    "ab.loc[ab.checkout_id.isnull(),'checkout_id'] = 0\n",
    "ab.loc[~(ab.checkout_id==0),'checkout_id'] = 1\n",
    "ab.columns = ['converted', 'group']"
   ]
  },
  {
   "cell_type": "markdown",
   "metadata": {},
   "source": [
    "## Analysis\n",
    "- Below we will look at difference in conversion rate "
   ]
  },
  {
   "cell_type": "code",
   "execution_count": 9,
   "metadata": {},
   "outputs": [],
   "source": [
    "ab_summary = ab.pivot_table(values='converted', index='group', aggfunc=np.sum)\n",
    "ab_summary['total'] = ab.pivot_table(values='converted', index='group', aggfunc=lambda x: len(x))\n",
    "ab_summary['rate'] = ab_summary['converted']/ab_summary['total']"
   ]
  },
  {
   "cell_type": "code",
   "execution_count": 10,
   "metadata": {},
   "outputs": [
    {
     "name": "stdout",
     "output_type": "stream",
     "text": [
      "\n",
      "Group B had a 0.0091 higher conversion rate\n",
      "\n"
     ]
    },
    {
     "data": {
      "text/html": [
       "<div>\n",
       "<style scoped>\n",
       "    .dataframe tbody tr th:only-of-type {\n",
       "        vertical-align: middle;\n",
       "    }\n",
       "\n",
       "    .dataframe tbody tr th {\n",
       "        vertical-align: top;\n",
       "    }\n",
       "\n",
       "    .dataframe thead th {\n",
       "        text-align: right;\n",
       "    }\n",
       "</style>\n",
       "<table border=\"1\" class=\"dataframe\">\n",
       "  <thead>\n",
       "    <tr style=\"text-align: right;\">\n",
       "      <th></th>\n",
       "      <th>converted</th>\n",
       "      <th>total</th>\n",
       "      <th>rate</th>\n",
       "    </tr>\n",
       "    <tr>\n",
       "      <th>group</th>\n",
       "      <th></th>\n",
       "      <th></th>\n",
       "      <th></th>\n",
       "    </tr>\n",
       "  </thead>\n",
       "  <tbody>\n",
       "    <tr>\n",
       "      <td>A</td>\n",
       "      <td>2543</td>\n",
       "      <td>9690</td>\n",
       "      <td>0.262436</td>\n",
       "    </tr>\n",
       "    <tr>\n",
       "      <td>B</td>\n",
       "      <td>2307</td>\n",
       "      <td>8495</td>\n",
       "      <td>0.271572</td>\n",
       "    </tr>\n",
       "  </tbody>\n",
       "</table>\n",
       "</div>"
      ],
      "text/plain": [
       "       converted  total      rate\n",
       "group                            \n",
       "A           2543   9690  0.262436\n",
       "B           2307   8495  0.271572"
      ]
     },
     "execution_count": 10,
     "metadata": {},
     "output_type": "execute_result"
    }
   ],
   "source": [
    "diff = ab_summary.loc['B','rate'] - ab_summary.loc['A','rate']\n",
    "print(f'\\nGroup B had a {diff.round(4)} higher conversion rate\\n')\n",
    "ab_summary"
   ]
  },
  {
   "cell_type": "markdown",
   "metadata": {},
   "source": [
    "While group B has a higher conversion rate we need to test the significance of this with the following hypothesis\n",
    "\n",
    "    Ho : Conversion Rate of Group A ≥ Conversion Rate of Group B   \n",
    "    Ha : Conversion Rate of Group A < Conversion Rate of Group B\n",
    "\n",
    "We will run this expiriemnt at the 5% significance level to determine if we can reject the null hypothesis   \n",
    "Because we are comparing two samples we run a t-test and divide the p-value by 2 in order to get the one sided probability"
   ]
  },
  {
   "cell_type": "code",
   "execution_count": 11,
   "metadata": {},
   "outputs": [
    {
     "name": "stdout",
     "output_type": "stream",
     "text": [
      "p-value: 0.0823\n"
     ]
    }
   ],
   "source": [
    "pop_1 = ab.loc[ab.group=='A', 'converted']\n",
    "pop_2 = ab.loc[ab.group=='B', 'converted']\n",
    "\n",
    "results = stats.ttest_ind(pop_1, pop_2)\n",
    "print(f'p-value: {(results.pvalue/2).round(4)}')"
   ]
  },
  {
   "cell_type": "markdown",
   "metadata": {},
   "source": [
    "The p-value of .0823 is less than .05 so we cannot say with 95% confidence that the results are significant "
   ]
  }
 ],
 "metadata": {
  "kernelspec": {
   "display_name": "Python 3",
   "language": "python",
   "name": "python3"
  },
  "language_info": {
   "codemirror_mode": {
    "name": "ipython",
    "version": 3
   },
   "file_extension": ".py",
   "mimetype": "text/x-python",
   "name": "python",
   "nbconvert_exporter": "python",
   "pygments_lexer": "ipython3",
   "version": "3.7.4"
  }
 },
 "nbformat": 4,
 "nbformat_minor": 4
}
